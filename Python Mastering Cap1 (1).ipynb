{
 "cells": [
  {
   "cell_type": "markdown",
   "id": "350a804e-eb6b-46ae-bc81-1792530d3945",
   "metadata": {},
   "source": [
    "# Metodos de Strings"
   ]
  },
  {
   "cell_type": "markdown",
   "id": "e634b752-f8fe-4cd0-916b-e794597db630",
   "metadata": {},
   "source": [
    "#### Manejo basico"
   ]
  },
  {
   "cell_type": "code",
   "execution_count": 19,
   "id": "7a10c823-07e9-43e8-bf6f-2434ee68bc1d",
   "metadata": {},
   "outputs": [
    {
     "name": "stdout",
     "output_type": "stream",
     "text": [
      "\n",
      "Its\n",
      "a \n",
      "new line\n",
      "This is too\n",
      "\n"
     ]
    }
   ],
   "source": [
    "several= '''\n",
    "Its\n",
    "a \n",
    "new line\\nThis is too\n",
    "'''\n",
    "print(several)"
   ]
  },
  {
   "cell_type": "code",
   "execution_count": 1,
   "id": "59e9fc66-67e6-43fd-94cd-2de639f7493c",
   "metadata": {},
   "outputs": [
    {
     "name": "stdout",
     "output_type": "stream",
     "text": [
      "text = Out of this world\n",
      "len =  17\n",
      "text[:-1] = Out of this worl\n",
      "text[-1] = d\n",
      "text[16] = d\n",
      "text[:17] = Out of this world\n"
     ]
    }
   ],
   "source": [
    "text='Out of this world'\n",
    "print('text =',text)\n",
    "print('len = ',len(text))  \n",
    "print('text[:-1] =',text[:-1])\n",
    "print('text[-1] =',text[-1])\n",
    "print('text[16] =', text[len(text)-1])\n",
    "print('text[:17] =', text[:len(text)]) "
   ]
  },
  {
   "cell_type": "markdown",
   "id": "6ff833fb-f651-4a43-a14a-d2c96e2c07d2",
   "metadata": {},
   "source": [
    "#### 1 capitalize()"
   ]
  },
  {
   "cell_type": "code",
   "execution_count": 13,
   "id": "61a1ecd0-076b-4426-bab8-bc011c690553",
   "metadata": {},
   "outputs": [
    {
     "name": "stdout",
     "output_type": "stream",
     "text": [
      "Out of this world\n"
     ]
    }
   ],
   "source": [
    "# Capitaliza la primera letra y pone en minuscula las demas\n",
    "\n",
    "text: str= 'ouT of this wORLD'\n",
    "print(text.capitalize())\n",
    "\n",
    "# si hay un numero al inicio, o un espacio, no capitaliza "
   ]
  },
  {
   "cell_type": "markdown",
   "id": "46e6236a-222f-4611-bd5a-b1a04b9447d7",
   "metadata": {},
   "source": [
    "#### 2 casefold()"
   ]
  },
  {
   "cell_type": "code",
   "execution_count": 25,
   "id": "85ba2628-6778-4263-bd9c-e99088980699",
   "metadata": {},
   "outputs": [
    {
     "name": "stdout",
     "output_type": "stream",
     "text": [
      "    out of this world23\n"
     ]
    }
   ],
   "source": [
    "# Minimiza todas las letras\n",
    "\n",
    "text='    Out of THIS world23'\n",
    "print(text.casefold())"
   ]
  },
  {
   "cell_type": "markdown",
   "id": "b4417750-3c2c-4aa0-9db7-76f0fbc0d0a8",
   "metadata": {},
   "source": [
    "#### 3 center()"
   ]
  },
  {
   "cell_type": "code",
   "execution_count": 38,
   "id": "37511eec-9ec8-49ed-9c86-837ac6721c9e",
   "metadata": {},
   "outputs": [
    {
     "name": "stdout",
     "output_type": "stream",
     "text": [
      "Out*\n",
      "** Jo **\n"
     ]
    }
   ],
   "source": [
    "# Centra el texto en base a cantidad de caracteres y opcional un simbolo\n",
    "\n",
    "text='Out'\n",
    "print(text.center(4,'*'))\n",
    "text=' Jo '\n",
    "print(text.center(8, '*'))"
   ]
  },
  {
   "cell_type": "markdown",
   "id": "d454580a-49d9-4df9-a457-fdd6ee39b316",
   "metadata": {},
   "source": [
    "#### 4 count()"
   ]
  },
  {
   "cell_type": "code",
   "execution_count": 44,
   "id": "6ad4a7e6-601f-407d-8af1-97dde918b530",
   "metadata": {},
   "outputs": [
    {
     "name": "stdout",
     "output_type": "stream",
     "text": [
      "1\n"
     ]
    }
   ],
   "source": [
    "# Cuenta la frecuencia de un caracter, incluso espacios\n",
    "\n",
    "text='  John1'\n",
    "print(text.count(' John'))"
   ]
  },
  {
   "cell_type": "markdown",
   "id": "2278f4cc-0115-4a70-8f92-a4baf75e84b0",
   "metadata": {},
   "source": [
    "#### 5 encode()"
   ]
  },
  {
   "cell_type": "code",
   "execution_count": 52,
   "id": "ff983767-d6c2-481a-aa6a-b76bd2f1b395",
   "metadata": {},
   "outputs": [
    {
     "name": "stdout",
     "output_type": "stream",
     "text": [
      "b'  Out of THIS world23*'\n"
     ]
    }
   ],
   "source": [
    "# Convierte en bytes, paa enviar o transmitir por ejemplo socket \n",
    "\n",
    "text='  Out of THIS world23*'\n",
    "print(text.encode(encoding='UTF-8', errors='strict'))\n",
    "\n",
    "# errores como strict, ignore, replace, en caso que no puede convertir algo"
   ]
  },
  {
   "cell_type": "markdown",
   "id": "c85c66a4-06b0-4d41-8f2c-36c8e44e3645",
   "metadata": {},
   "source": [
    "#### 6 endswith()"
   ]
  },
  {
   "cell_type": "code",
   "execution_count": 56,
   "id": "1317e55f-5602-4300-bf3c-3cb22ca63dde",
   "metadata": {},
   "outputs": [
    {
     "name": "stdout",
     "output_type": "stream",
     "text": [
      "False\n",
      "True\n"
     ]
    }
   ],
   "source": [
    "# Valida si la entrada se encuentra al final del string\n",
    "\n",
    "text='  Out of THIS world23'\n",
    "print(text.endswith(' '))\n",
    "print(text.endswith(('23',' ')))\n",
    "\n",
    "# le puede pasar un argumento, o multiples pero en tupla "
   ]
  },
  {
   "cell_type": "markdown",
   "id": "c6d374a0-3f6c-418f-89c0-02a16250cd66",
   "metadata": {},
   "source": [
    "#### 7 expandtabs()"
   ]
  },
  {
   "cell_type": "code",
   "execution_count": 57,
   "id": "9f8ff097-0f9a-487e-9b83-40ddde606ada",
   "metadata": {},
   "outputs": [
    {
     "name": "stdout",
     "output_type": "stream",
     "text": [
      "H\tE\tL\tL\tO\n",
      "H E L L O\n",
      "H               E               L               L               O\n"
     ]
    }
   ],
   "source": [
    "# Modifica los tabs, puede reducirlos o expandirlos\n",
    "\n",
    "text='H\\tE\\tL\\tL\\tO'\n",
    "print(text)\n",
    "print(text.expandtabs(1))\n",
    "print(text.expandtabs(16))"
   ]
  },
  {
   "cell_type": "markdown",
   "id": "86679652-376b-423e-b209-923d127c45e8",
   "metadata": {},
   "source": [
    "#### 8 find()"
   ]
  },
  {
   "cell_type": "code",
   "execution_count": 68,
   "id": "7b5b4498-5c86-42f1-b04b-dbfd93181606",
   "metadata": {},
   "outputs": [
    {
     "name": "stdout",
     "output_type": "stream",
     "text": [
      "9\n",
      "THIS world23\n",
      "-1\n"
     ]
    }
   ],
   "source": [
    "# Encuentra la posicion de la entrada, inicia en 0\n",
    "\n",
    "text='  Out of THIS world23'   \n",
    "index=text.find('T')\n",
    "print(index)\n",
    "print(text[index:])\n",
    "index=text.find('Tz')\n",
    "print(index)\n",
    "\n",
    "# de izq a der, si no esta, da -1"
   ]
  },
  {
   "cell_type": "markdown",
   "id": "9a691656-bd52-46bc-8ebc-3c80a69beeaf",
   "metadata": {},
   "source": [
    "#### 9 format()"
   ]
  },
  {
   "cell_type": "code",
   "execution_count": 72,
   "id": "a4e3c594-cd44-4c66-91c7-ad407f8e9228",
   "metadata": {},
   "outputs": [
    {
     "name": "stdout",
     "output_type": "stream",
     "text": [
      "  Inside your world23\n",
      "  Inside your world23\n"
     ]
    }
   ],
   "source": [
    "# Recibe strings, ubicandolos dentro de {}\n",
    "\n",
    "text='  {ubicacion} {pertenencia} world23'\n",
    "print(text.format(ubicacion='Inside', pertenencia='your'))\n",
    "text='  {} {} world23'\n",
    "print(text.format('Inside','your','ff')) \n",
    "\n",
    "# En el segundo caso, puede sobrar pero no faltar argumentos"
   ]
  },
  {
   "cell_type": "markdown",
   "id": "ec04e49f-0939-4fe7-a12a-163644c90b40",
   "metadata": {},
   "source": [
    "#### 10 format_map()"
   ]
  },
  {
   "cell_type": "code",
   "execution_count": 76,
   "id": "270f54f5-fe1b-481b-8341-757779da5051",
   "metadata": {},
   "outputs": [
    {
     "name": "stdout",
     "output_type": "stream",
     "text": [
      "Coordenadas en dos dimensiones (10, -2)\n"
     ]
    }
   ],
   "source": [
    "# Recibe un diccionario, y coloca los valores de las keys en {}\n",
    "\n",
    "coordinates: dict ={'x':10,'y':-2}\n",
    "\n",
    "# Otra forma de declarar\n",
    "text: str = 'Coordenadas en dos dimensiones ({x}, {y})'\n",
    "print(text.format_map(coordinates))"
   ]
  },
  {
   "cell_type": "markdown",
   "id": "d461581a-2094-4010-a7a6-673942eaf019",
   "metadata": {},
   "source": [
    "#### 11 index()"
   ]
  },
  {
   "cell_type": "code",
   "execution_count": 3,
   "id": "dc36808c-224a-4032-a669-87f2e6ac9c1e",
   "metadata": {},
   "outputs": [
    {
     "name": "stdout",
     "output_type": "stream",
     "text": [
      "4\n",
      "of this of world\n"
     ]
    }
   ],
   "source": [
    "# Encuentra la posicion de la entrada, igual que find pero da error en vez de -1\n",
    "\n",
    "text: str = 'Out of this of world'\n",
    "position = text.index('of')\n",
    "print(position)\n",
    "print(text[position:])"
   ]
  },
  {
   "cell_type": "markdown",
   "id": "a4387a56-3015-49d1-9dc5-e08a92f3e9b3",
   "metadata": {},
   "source": [
    "#### 12 isalnum()"
   ]
  },
  {
   "cell_type": "code",
   "execution_count": 4,
   "id": "0de06b90-53a9-46f1-a23b-6ad429559261",
   "metadata": {},
   "outputs": [
    {
     "name": "stdout",
     "output_type": "stream",
     "text": [
      "True\n"
     ]
    }
   ],
   "source": [
    "#alfanumerico, solo numero y letra por ejemplo si hay espacio da error, o ! da error\n",
    "\n",
    "text='Outofthisworld'\n",
    "print(text.isalnum())"
   ]
  },
  {
   "cell_type": "markdown",
   "id": "8624861e-0fae-4459-8f28-ecf14087a639",
   "metadata": {},
   "source": [
    "#### 13 isaslpha()"
   ]
  },
  {
   "cell_type": "code",
   "execution_count": null,
   "id": "7cc6f3a7-4a72-42dd-baa5-c5ff43fcb644",
   "metadata": {},
   "outputs": [],
   "source": [
    "text='Out'\n",
    "#alpha, solo alfabeto letras\n",
    "print(text.isalpha())"
   ]
  },
  {
   "cell_type": "markdown",
   "id": "257a472e-d95b-4e5e-8e5f-e476db8215ab",
   "metadata": {},
   "source": [
    "#### 14 isascci()"
   ]
  },
  {
   "cell_type": "code",
   "execution_count": null,
   "id": "21b8886e-c528-4a76-aebb-b1f398430e30",
   "metadata": {},
   "outputs": [],
   "source": [
    "text='Out of this world'\n",
    "#ascii, simbolos y letras\n",
    "print(text.isascii())"
   ]
  },
  {
   "cell_type": "markdown",
   "id": "33773eec-3130-4547-988b-0eaabb32d8dd",
   "metadata": {},
   "source": [
    "#### 15 isdecimal()"
   ]
  },
  {
   "cell_type": "code",
   "execution_count": null,
   "id": "399aa017-b63b-4215-9fbc-5491009165af",
   "metadata": {},
   "outputs": [],
   "source": [
    "text='12'\n",
    "print(text.isdecimal())   # es decimal\n",
    "print('12.3'.isdecimal()) \n",
    "print('²'.isdecimal())\n",
    "print('123a'.isdecimal())\n",
    "print('½'.isdecimal())\n",
    "print('Ⅷ'.isdecimal())"
   ]
  },
  {
   "cell_type": "markdown",
   "id": "59daaa4d-2014-4fac-bacf-f9007d7247c0",
   "metadata": {},
   "source": [
    "#### 16 isdigit()"
   ]
  },
  {
   "cell_type": "code",
   "execution_count": null,
   "id": "135db201-db54-48ea-ac1f-46987a0250f2",
   "metadata": {},
   "outputs": [],
   "source": [
    "text='12'# da error\n",
    "print(text.isdigit()) #es digito\n",
    "print('12.3'.isdigit()) \n",
    "print('²'.isdigit())   #es digito\n",
    "print('123a'.isdigit())\n",
    "print('½'.isdigit())\n",
    "print('Ⅷ'.isdigit())"
   ]
  },
  {
   "cell_type": "markdown",
   "id": "9078cf9c-5e5d-47e5-a416-6ce8d127ed92",
   "metadata": {},
   "source": [
    "#### 17 isnumeric()"
   ]
  },
  {
   "cell_type": "code",
   "execution_count": null,
   "id": "4a8ab8ea-3fc1-4159-8113-11885981ebc3",
   "metadata": {},
   "outputs": [],
   "source": [
    "text='12'# da error\n",
    "print(text.isnumeric())  #es numerico\n",
    "print('12.3'.isnumeric())\n",
    "print('²'.isnumeric()) #es numerico\n",
    "print('123a'.isnumeric())\n",
    "print('½'.isnumeric()) #es numerico\n",
    "print('Ⅷ'.isnumeric()) #es numerico"
   ]
  },
  {
   "cell_type": "markdown",
   "id": "bd518520-1be4-4ca7-868d-0157698a4a84",
   "metadata": {},
   "source": [
    "#### 18 isidenfiier()"
   ]
  },
  {
   "cell_type": "code",
   "execution_count": null,
   "id": "b3797c4e-8e75-4d32-9f87-bae77e427585",
   "metadata": {},
   "outputs": [],
   "source": [
    "text='1name'\n",
    "text2='name1'\n",
    "# nombre valido en Python. no permite numeros al inicio ni ciertos simbolos\n",
    "print(text.isidentifier(), text2.isidentifier())"
   ]
  },
  {
   "cell_type": "markdown",
   "id": "4a361abf-5ed2-41a6-b878-427ecf6a860b",
   "metadata": {},
   "source": [
    "#### 19 islower()"
   ]
  },
  {
   "cell_type": "code",
   "execution_count": null,
   "id": "0bf64106-282f-4763-bf1c-d036aa8a8a40",
   "metadata": {},
   "outputs": [],
   "source": [
    "text: str = 'Out of this worl2 d'\n",
    "#ignora numeros y los espacios\n",
    "print(text.islower())"
   ]
  },
  {
   "cell_type": "markdown",
   "id": "a031a3d3-6105-42bc-a822-6d19f3765d59",
   "metadata": {},
   "source": [
    "#### 20 isprintable()"
   ]
  },
  {
   "cell_type": "code",
   "execution_count": null,
   "id": "823ebed2-f581-4d5c-9867-bc040ba28339",
   "metadata": {},
   "outputs": [],
   "source": [
    "text: str = 'Out of this worldl\\n'\n",
    "# si contiene new line no acepta, \\n\n",
    "print(text.isprintable())\n",
    "print('hola\\rcomo esta')"
   ]
  },
  {
   "cell_type": "markdown",
   "id": "90198248-98b6-4308-b033-293d18d5db5e",
   "metadata": {},
   "source": [
    "#### 21 isspace()"
   ]
  },
  {
   "cell_type": "code",
   "execution_count": null,
   "id": "133cd136-b444-44a5-bcf5-1d239cfa790c",
   "metadata": {},
   "outputs": [],
   "source": [
    "text: str = '\\t  '\n",
    "print(text.isspace())"
   ]
  },
  {
   "cell_type": "markdown",
   "id": "f1f16878-2c97-4ebe-a6f0-18fcd36fa363",
   "metadata": {},
   "source": [
    "#### 22 istitle()"
   ]
  },
  {
   "cell_type": "code",
   "execution_count": null,
   "id": "8a9e29c7-ff33-4e05-bfb2-fb9b4cd55473",
   "metadata": {},
   "outputs": [],
   "source": [
    "text: str = ' 2 Out Of This '\n",
    "print(text.istitle())"
   ]
  },
  {
   "cell_type": "markdown",
   "id": "6bb4d7b4-5eb6-447b-bcb9-64944f6cc848",
   "metadata": {},
   "source": [
    "#### 23 isupper()"
   ]
  },
  {
   "cell_type": "code",
   "execution_count": null,
   "id": "75b36bde-c5cf-4198-a96e-e886594e3ac8",
   "metadata": {},
   "outputs": [],
   "source": [
    "text: str = '   EARTH2'\n",
    "print(text.isupper())"
   ]
  },
  {
   "cell_type": "markdown",
   "id": "b6bb9fc8-bef4-4103-9b9a-78d0c41fd4bc",
   "metadata": {},
   "source": [
    "#### 24 join()"
   ]
  },
  {
   "cell_type": "code",
   "execution_count": null,
   "id": "f3f9b401-b7a7-482f-bc11-5a9258bd680c",
   "metadata": {},
   "outputs": [],
   "source": [
    "text: str = '-'\n",
    "# hay dos formas\n",
    "print(text.join(['texto1', 'texto2']))\n",
    "print('-'.join(['texto1', 'texto2']))"
   ]
  },
  {
   "cell_type": "markdown",
   "id": "6fd0fbc7-085a-40e2-b969-2d47766f7740",
   "metadata": {},
   "source": [
    "#### 25 ljust()"
   ]
  },
  {
   "cell_type": "code",
   "execution_count": null,
   "id": "a8d2a42d-d7f7-4443-a985-aef915bfab46",
   "metadata": {},
   "outputs": [],
   "source": [
    "text: str = 'nombres'\n",
    "# sino pone 2 arg, rellena con espacios\n",
    "print(text.ljust(12, '|'))"
   ]
  },
  {
   "cell_type": "markdown",
   "id": "e217b3e1-56f2-4332-be13-a87daa451ef4",
   "metadata": {},
   "source": [
    "#### 26 lower()"
   ]
  },
  {
   "cell_type": "code",
   "execution_count": null,
   "id": "8e76c528-f9a4-4a6d-80a7-fc0d2e2e3cdd",
   "metadata": {},
   "outputs": [],
   "source": [
    "text: str = '  U PPER 2 '\n",
    "print(text.lower())"
   ]
  },
  {
   "cell_type": "markdown",
   "id": "a2f98b12-df73-4c0e-bc3e-50c82749a0f3",
   "metadata": {},
   "source": [
    "#### 27 lstrip()"
   ]
  },
  {
   "cell_type": "code",
   "execution_count": null,
   "id": "2dffdc97-3860-46e1-9bcc-264408513d0d",
   "metadata": {},
   "outputs": [],
   "source": [
    "text: str = '     Ho laabc'\n",
    "# quita lo del inicio, espacio sensitivo\n",
    "print(text.lstrip(' H'))"
   ]
  },
  {
   "cell_type": "markdown",
   "id": "62ab6158-75dc-49da-9344-333751d6eb12",
   "metadata": {},
   "source": [
    "#### 28 & 29 maketrans()  translate()"
   ]
  },
  {
   "cell_type": "code",
   "execution_count": null,
   "id": "6f932750-f5f1-4a25-a319-c56ef4f0b180",
   "metadata": {},
   "outputs": [],
   "source": [
    "text: str = 'mercancia mas masa'\n",
    "table= text.maketrans('m', '@')\n",
    "# genera {109: 64} esto es mapeando codigo Unicode por default, note que codigo 129320 hace caritas emoji\n",
    "\n",
    "table2={109:129320}\n",
    "print(table)\n",
    "print(text.translate(table2))\n",
    "# ejemplo\n",
    "# Crear la tabla de traducción \n",
    "tabla = str.maketrans('aeiou', '12345', 'xyz') # Texto original \n",
    "texto = 'example text with vowels and xyz' # Aplicar la traducción \n",
    "texto_traducido = texto.translate(tabla) \n",
    "print(texto_traducido)"
   ]
  },
  {
   "cell_type": "markdown",
   "id": "f2a9ca8b-4916-431c-bf13-347b1e366d68",
   "metadata": {},
   "source": [
    "#### 30 partition()"
   ]
  },
  {
   "cell_type": "code",
   "execution_count": null,
   "id": "f1fb5b06-a5db-485e-a073-751e9f5ae54f",
   "metadata": {},
   "outputs": [],
   "source": [
    "text: str = '1=3+4/3+2'\n",
    "# retorna tupla con cada parte en string, solo la primera aparicion, no da error \n",
    "print(text.partition('+x'))"
   ]
  },
  {
   "cell_type": "markdown",
   "id": "ffb7b0f3-27b8-4399-a572-b1e455df9327",
   "metadata": {},
   "source": [
    "#### 31 removeprefix()"
   ]
  },
  {
   "cell_type": "code",
   "execution_count": null,
   "id": "ea64cf16-76ef-4c28-95f8-60a3827e02bf",
   "metadata": {},
   "outputs": [],
   "source": [
    "text: str = '   1=3+4/3+2'\n",
    "print(text.removeprefix('1='))"
   ]
  },
  {
   "cell_type": "markdown",
   "id": "778a8063-2468-4aac-9ae6-136ebde577c8",
   "metadata": {},
   "source": [
    "#### 32 removesuffix()"
   ]
  },
  {
   "cell_type": "code",
   "execution_count": null,
   "id": "93e07ccc-21ac-40c3-9be9-46aebe293ed1",
   "metadata": {},
   "outputs": [],
   "source": [
    "text: str = '   1=3+4/3+A'\n",
    "print(text.removesuffix('ax'))"
   ]
  },
  {
   "cell_type": "markdown",
   "id": "ddb144ca-a250-4101-a8c6-bad1dba056de",
   "metadata": {},
   "source": [
    "#### 33 replace()"
   ]
  },
  {
   "cell_type": "code",
   "execution_count": null,
   "id": "990a1094-5c0f-4180-8ada-2cb8c3cee4d4",
   "metadata": {},
   "outputs": [],
   "source": [
    "text='Hola como estatico esta quieto'\n",
    "print(text.replace('estza', 'ESTAx', 1))"
   ]
  },
  {
   "cell_type": "markdown",
   "id": "8acc45b2-7015-4fc4-9da2-00b1d6533888",
   "metadata": {},
   "source": [
    "#### 34 rfind()"
   ]
  },
  {
   "cell_type": "code",
   "execution_count": null,
   "id": "ddfda6db-7967-4d94-89c3-f5eb1ab0fea2",
   "metadata": {},
   "outputs": [],
   "source": [
    "text='estatico esta'\n",
    "print(text.rfind('a'))\n",
    "print(text.find('X'))"
   ]
  },
  {
   "cell_type": "markdown",
   "id": "0d6adb91-427b-4995-bdc8-3f3e3210ec4e",
   "metadata": {},
   "source": [
    "#### 35 rindex"
   ]
  },
  {
   "cell_type": "code",
   "execution_count": null,
   "id": "a50d9a20-af94-4dc0-b1a9-897521d619d3",
   "metadata": {},
   "outputs": [],
   "source": [
    "text='estatico esta'\n",
    "print(text.rindex('a'))\n",
    "print(text.index('e'))"
   ]
  },
  {
   "cell_type": "markdown",
   "id": "38c1314c-76d3-4755-bb7c-b4f625e12cbd",
   "metadata": {},
   "source": [
    "#### 36 rjust()"
   ]
  },
  {
   "cell_type": "code",
   "execution_count": null,
   "id": "14895c08-dab0-43b7-8605-5b59b8025d7d",
   "metadata": {},
   "outputs": [],
   "source": [
    "text='Luigi'\n",
    "print(text.rjust(20, 'r'))"
   ]
  },
  {
   "cell_type": "markdown",
   "id": "6d0fb086-0dd1-4cfc-b32c-4ed37c9b9861",
   "metadata": {},
   "source": [
    "#### 37 rpartition()"
   ]
  },
  {
   "cell_type": "code",
   "execution_count": null,
   "id": "1bdbc2bc-59f1-4503-9abf-f49134e751f1",
   "metadata": {},
   "outputs": [],
   "source": [
    "text='Luigi=Hola=Hi'\n",
    "print(text.rpartition('='))"
   ]
  },
  {
   "cell_type": "markdown",
   "id": "4b217caa-8805-43c1-b1d8-128fb4152d65",
   "metadata": {},
   "source": [
    "#### 38 & 39  rsplit()   split()"
   ]
  },
  {
   "cell_type": "code",
   "execution_count": 8,
   "id": "4000e680-fc96-4931-bdd5-03af2d146f8f",
   "metadata": {},
   "outputs": [
    {
     "name": "stdout",
     "output_type": "stream",
     "text": [
      "['Luigi', 'hi', 'how', 'are', 'you']\n",
      "['Luigi', 'hi', 'how', 'are', 'you']\n",
      "['Luigi', 'hi', 'how are you']\n"
     ]
    }
   ],
   "source": [
    "text='Luigi hi how are you'\n",
    "print(text.rsplit(' '))\n",
    "print(text.split(' '))\n",
    "print(text.split(sep=' ', maxsplit=2))"
   ]
  },
  {
   "cell_type": "markdown",
   "id": "a79eea79-1470-4fbc-b8f5-10aee50d4f43",
   "metadata": {},
   "source": [
    "#### 40 rstrip()"
   ]
  },
  {
   "cell_type": "code",
   "execution_count": 7,
   "id": "b1e76469-7849-4fe1-b178-447dacd55d2f",
   "metadata": {},
   "outputs": [
    {
     "name": "stdout",
     "output_type": "stream",
     "text": [
      "Luigi hi how are you\n"
     ]
    }
   ],
   "source": [
    "text='Luigi hi how are you'\n",
    "print(text.rstrip(' '))"
   ]
  },
  {
   "cell_type": "markdown",
   "id": "e07ad7b6-dac8-4b89-8f83-d1df45a9fcd6",
   "metadata": {},
   "source": [
    "#### 41 splitlines()"
   ]
  },
  {
   "cell_type": "code",
   "execution_count": null,
   "id": "7b22e310-e2a0-4926-b998-c86ffb93ad9c",
   "metadata": {},
   "outputs": [],
   "source": [
    "text='Luigi\\n How are \\n You'\n",
    "print(text)\n",
    "text='Luigi\\n How are \\n You'\n",
    "print(text)"
   ]
  },
  {
   "cell_type": "code",
   "execution_count": null,
   "id": "acb0b81f-10a5-4025-a4d1-a1b701ac9618",
   "metadata": {},
   "outputs": [],
   "source": [
    "text='Luigi\\n How are \\n You'\n",
    "print(text.splitlines(keepends=True))"
   ]
  },
  {
   "cell_type": "markdown",
   "id": "5dc39946-896b-43f4-ba24-9df3d90b8e7d",
   "metadata": {},
   "source": [
    "#### 42 startwith()"
   ]
  },
  {
   "cell_type": "code",
   "execution_count": null,
   "id": "e7a50e33-3faf-4a92-ad1f-91146d1f2c02",
   "metadata": {},
   "outputs": [],
   "source": [
    "text=' -12'\n",
    "print(text.startswith(' -1'))"
   ]
  },
  {
   "cell_type": "markdown",
   "id": "37b01974-4591-4499-bdc4-40f753ddc54c",
   "metadata": {},
   "source": [
    "#### 43 strip()"
   ]
  },
  {
   "cell_type": "code",
   "execution_count": 13,
   "id": "d93e2d2e-62fa-4bb3-9fdb-a9e2482bfe5b",
   "metadata": {},
   "outputs": [
    {
     "name": "stdout",
     "output_type": "stream",
     "text": [
      "Out of this world\n",
      "Earth.\n"
     ]
    }
   ],
   "source": [
    "text='        Out of this world            '\n",
    "print(text.strip())\n",
    "text2='1Earth.--*'\n",
    "print(text2.strip('-1*'))"
   ]
  },
  {
   "cell_type": "markdown",
   "id": "39915c35-15f3-445e-9c36-59e01f4a5c39",
   "metadata": {},
   "source": [
    "#### 44 swapcase()"
   ]
  },
  {
   "cell_type": "code",
   "execution_count": 5,
   "id": "1e3141fe-5d93-4c26-aa0b-0904bf93dd45",
   "metadata": {},
   "outputs": [
    {
     "name": "stdout",
     "output_type": "stream",
     "text": [
      "out OF this WORLD 12-\n"
     ]
    }
   ],
   "source": [
    "text='OUT of THIS world 12-'\n",
    "print(text.swapcase())"
   ]
  },
  {
   "cell_type": "markdown",
   "id": "6e4a926a-9b60-482d-b82b-5ab257d79621",
   "metadata": {},
   "source": [
    "#### 45 title()"
   ]
  },
  {
   "cell_type": "code",
   "execution_count": null,
   "id": "4ec09d80-824c-47f7-a927-4697b005b16a",
   "metadata": {},
   "outputs": [],
   "source": [
    "text='     2-Out OF THIS WOrld'\n",
    "print(text.title())"
   ]
  },
  {
   "cell_type": "markdown",
   "id": "c944a7af-3948-42ed-aba4-6864430cea83",
   "metadata": {},
   "source": [
    "#### 46 upper()"
   ]
  },
  {
   "cell_type": "code",
   "execution_count": null,
   "id": "228b37a7-c89f-43c4-8c8d-f9b858c35485",
   "metadata": {},
   "outputs": [],
   "source": [
    "text='Luig-@i'\n",
    "print(text.upper())"
   ]
  },
  {
   "cell_type": "markdown",
   "id": "18d6a80a-1594-4b24-bad7-e5035fc5657c",
   "metadata": {},
   "source": [
    "#### 47 zfill()"
   ]
  },
  {
   "cell_type": "code",
   "execution_count": null,
   "id": "57b44b02-6397-4595-bfbe-2edd06f84201",
   "metadata": {},
   "outputs": [],
   "source": [
    "numero = '-42' \n",
    "cadena='abc'\n",
    "print(numero.zfill(5) , cadena.zfill(5))"
   ]
  }
 ],
 "metadata": {
  "kernelspec": {
   "display_name": "Python 3 (ipykernel)",
   "language": "python",
   "name": "python3"
  },
  "language_info": {
   "codemirror_mode": {
    "name": "ipython",
    "version": 3
   },
   "file_extension": ".py",
   "mimetype": "text/x-python",
   "name": "python",
   "nbconvert_exporter": "python",
   "pygments_lexer": "ipython3",
   "version": "3.12.4"
  }
 },
 "nbformat": 4,
 "nbformat_minor": 5
}
